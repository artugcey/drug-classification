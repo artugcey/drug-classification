{
 "cells": [
  {
   "cell_type": "code",
   "execution_count": 1,
   "id": "f8616fd0",
   "metadata": {},
   "outputs": [],
   "source": [
    "import matplotlib.pyplot as plt\n",
    "import pandas as pd\n",
    "import numpy as np\n",
    "from sklearn import preprocessing\n",
    "from sklearn.linear_model import LogisticRegression\n",
    "from sklearn.model_selection import train_test_split\n",
    "from sklearn.neighbors import KNeighborsClassifier\n",
    "from sklearn.naive_bayes import GaussianNB\n",
    "from sklearn.svm import SVC\n",
    "from sklearn.tree import DecisionTreeClassifier\n",
    "from sklearn.ensemble import RandomForestClassifier\n",
    "from sklearn.preprocessing import StandardScaler\n",
    "from sklearn.metrics import confusion_matrix"
   ]
  },
  {
   "cell_type": "code",
   "execution_count": 2,
   "id": "0237f00b",
   "metadata": {},
   "outputs": [],
   "source": [
    "data = pd.read_csv('drug.csv')"
   ]
  },
  {
   "cell_type": "code",
   "execution_count": 3,
   "id": "cf4394a5",
   "metadata": {},
   "outputs": [
    {
     "data": {
      "text/plain": [
       "Age            200\n",
       "Sex            200\n",
       "BP             200\n",
       "Cholesterol    200\n",
       "Na_to_K        200\n",
       "Drug           200\n",
       "dtype: int64"
      ]
     },
     "execution_count": 3,
     "metadata": {},
     "output_type": "execute_result"
    }
   ],
   "source": [
    "data.head()\n",
    "data.describe()\n",
    "data.count()"
   ]
  },
  {
   "cell_type": "markdown",
   "id": "e879ae90",
   "metadata": {},
   "source": [
    "## categorized"
   ]
  },
  {
   "cell_type": "code",
   "execution_count": 4,
   "id": "ad351c9d",
   "metadata": {},
   "outputs": [
    {
     "data": {
      "text/html": [
       "<div>\n",
       "<style scoped>\n",
       "    .dataframe tbody tr th:only-of-type {\n",
       "        vertical-align: middle;\n",
       "    }\n",
       "\n",
       "    .dataframe tbody tr th {\n",
       "        vertical-align: top;\n",
       "    }\n",
       "\n",
       "    .dataframe thead th {\n",
       "        text-align: right;\n",
       "    }\n",
       "</style>\n",
       "<table border=\"1\" class=\"dataframe\">\n",
       "  <thead>\n",
       "    <tr style=\"text-align: right;\">\n",
       "      <th></th>\n",
       "      <th>Age</th>\n",
       "      <th>Sex</th>\n",
       "      <th>BP</th>\n",
       "      <th>Cholesterol</th>\n",
       "      <th>Na_to_K</th>\n",
       "      <th>Drug</th>\n",
       "    </tr>\n",
       "  </thead>\n",
       "  <tbody>\n",
       "    <tr>\n",
       "      <th>0</th>\n",
       "      <td>23</td>\n",
       "      <td>F</td>\n",
       "      <td>HIGH</td>\n",
       "      <td>HIGH</td>\n",
       "      <td>25.355</td>\n",
       "      <td>DrugY</td>\n",
       "    </tr>\n",
       "    <tr>\n",
       "      <th>1</th>\n",
       "      <td>47</td>\n",
       "      <td>M</td>\n",
       "      <td>LOW</td>\n",
       "      <td>HIGH</td>\n",
       "      <td>13.093</td>\n",
       "      <td>drugC</td>\n",
       "    </tr>\n",
       "    <tr>\n",
       "      <th>2</th>\n",
       "      <td>47</td>\n",
       "      <td>M</td>\n",
       "      <td>LOW</td>\n",
       "      <td>HIGH</td>\n",
       "      <td>10.114</td>\n",
       "      <td>drugC</td>\n",
       "    </tr>\n",
       "    <tr>\n",
       "      <th>3</th>\n",
       "      <td>28</td>\n",
       "      <td>F</td>\n",
       "      <td>NORMAL</td>\n",
       "      <td>HIGH</td>\n",
       "      <td>7.798</td>\n",
       "      <td>drugX</td>\n",
       "    </tr>\n",
       "    <tr>\n",
       "      <th>4</th>\n",
       "      <td>61</td>\n",
       "      <td>F</td>\n",
       "      <td>LOW</td>\n",
       "      <td>HIGH</td>\n",
       "      <td>18.043</td>\n",
       "      <td>DrugY</td>\n",
       "    </tr>\n",
       "  </tbody>\n",
       "</table>\n",
       "</div>"
      ],
      "text/plain": [
       "   Age Sex      BP Cholesterol  Na_to_K   Drug\n",
       "0   23   F    HIGH        HIGH   25.355  DrugY\n",
       "1   47   M     LOW        HIGH   13.093  drugC\n",
       "2   47   M     LOW        HIGH   10.114  drugC\n",
       "3   28   F  NORMAL        HIGH    7.798  drugX\n",
       "4   61   F     LOW        HIGH   18.043  DrugY"
      ]
     },
     "execution_count": 4,
     "metadata": {},
     "output_type": "execute_result"
    }
   ],
   "source": [
    "data.head()# Sex,Cholesterol and drug categorized"
   ]
  },
  {
   "cell_type": "code",
   "execution_count": 5,
   "id": "33ce6ce3",
   "metadata": {},
   "outputs": [],
   "source": [
    "age = data.iloc[:,0:1].values\n",
    "sex = data.iloc[:,1:2].values\n",
    "bp = data.iloc[:,2:3].values\n",
    "chol = data.iloc[:,3:4].values\n",
    "natok = data.iloc[:,4:5].values\n",
    "drug = data.iloc[:,5].values"
   ]
  },
  {
   "cell_type": "code",
   "execution_count": 6,
   "id": "8e012022",
   "metadata": {},
   "outputs": [],
   "source": [
    "ohe = preprocessing.OneHotEncoder()\n",
    "Sex = ohe.fit_transform(sex).toarray()"
   ]
  },
  {
   "cell_type": "code",
   "execution_count": 7,
   "id": "bb81b269",
   "metadata": {},
   "outputs": [
    {
     "name": "stdout",
     "output_type": "stream",
     "text": [
      "[[1. 0.]\n",
      " [0. 1.]\n",
      " [0. 1.]\n",
      " [1. 0.]\n",
      " [1. 0.]\n",
      " [1. 0.]\n",
      " [1. 0.]\n",
      " [0. 1.]\n",
      " [0. 1.]\n",
      " [0. 1.]\n",
      " [1. 0.]\n",
      " [1. 0.]\n",
      " [0. 1.]\n",
      " [1. 0.]\n",
      " [1. 0.]\n",
      " [1. 0.]\n",
      " [0. 1.]\n",
      " [0. 1.]\n",
      " [0. 1.]\n",
      " [1. 0.]\n",
      " [0. 1.]\n",
      " [0. 1.]\n",
      " [0. 1.]\n",
      " [1. 0.]\n",
      " [1. 0.]\n",
      " [1. 0.]\n",
      " [0. 1.]\n",
      " [1. 0.]\n",
      " [1. 0.]\n",
      " [0. 1.]\n",
      " [1. 0.]\n",
      " [0. 1.]\n",
      " [0. 1.]\n",
      " [1. 0.]\n",
      " [0. 1.]\n",
      " [0. 1.]\n",
      " [0. 1.]\n",
      " [0. 1.]\n",
      " [1. 0.]\n",
      " [0. 1.]\n",
      " [1. 0.]\n",
      " [1. 0.]\n",
      " [0. 1.]\n",
      " [0. 1.]\n",
      " [1. 0.]\n",
      " [1. 0.]\n",
      " [1. 0.]\n",
      " [0. 1.]\n",
      " [0. 1.]\n",
      " [1. 0.]\n",
      " [1. 0.]\n",
      " [0. 1.]\n",
      " [0. 1.]\n",
      " [1. 0.]\n",
      " [1. 0.]\n",
      " [1. 0.]\n",
      " [0. 1.]\n",
      " [0. 1.]\n",
      " [0. 1.]\n",
      " [0. 1.]\n",
      " [1. 0.]\n",
      " [0. 1.]\n",
      " [0. 1.]\n",
      " [0. 1.]\n",
      " [1. 0.]\n",
      " [1. 0.]\n",
      " [0. 1.]\n",
      " [0. 1.]\n",
      " [0. 1.]\n",
      " [1. 0.]\n",
      " [0. 1.]\n",
      " [1. 0.]\n",
      " [1. 0.]\n",
      " [1. 0.]\n",
      " [0. 1.]\n",
      " [0. 1.]\n",
      " [1. 0.]\n",
      " [1. 0.]\n",
      " [1. 0.]\n",
      " [1. 0.]\n",
      " [0. 1.]\n",
      " [0. 1.]\n",
      " [1. 0.]\n",
      " [1. 0.]\n",
      " [1. 0.]\n",
      " [0. 1.]\n",
      " [1. 0.]\n",
      " [0. 1.]\n",
      " [1. 0.]\n",
      " [1. 0.]\n",
      " [0. 1.]\n",
      " [0. 1.]\n",
      " [1. 0.]\n",
      " [1. 0.]\n",
      " [0. 1.]\n",
      " [0. 1.]\n",
      " [1. 0.]\n",
      " [1. 0.]\n",
      " [0. 1.]\n",
      " [1. 0.]\n",
      " [0. 1.]\n",
      " [1. 0.]\n",
      " [1. 0.]\n",
      " [0. 1.]\n",
      " [0. 1.]\n",
      " [0. 1.]\n",
      " [0. 1.]\n",
      " [0. 1.]\n",
      " [0. 1.]\n",
      " [0. 1.]\n",
      " [0. 1.]\n",
      " [1. 0.]\n",
      " [0. 1.]\n",
      " [1. 0.]\n",
      " [1. 0.]\n",
      " [0. 1.]\n",
      " [0. 1.]\n",
      " [1. 0.]\n",
      " [1. 0.]\n",
      " [1. 0.]\n",
      " [0. 1.]\n",
      " [0. 1.]\n",
      " [0. 1.]\n",
      " [1. 0.]\n",
      " [1. 0.]\n",
      " [1. 0.]\n",
      " [0. 1.]\n",
      " [0. 1.]\n",
      " [0. 1.]\n",
      " [1. 0.]\n",
      " [1. 0.]\n",
      " [0. 1.]\n",
      " [0. 1.]\n",
      " [0. 1.]\n",
      " [1. 0.]\n",
      " [0. 1.]\n",
      " [1. 0.]\n",
      " [1. 0.]\n",
      " [0. 1.]\n",
      " [1. 0.]\n",
      " [0. 1.]\n",
      " [1. 0.]\n",
      " [0. 1.]\n",
      " [0. 1.]\n",
      " [0. 1.]\n",
      " [0. 1.]\n",
      " [1. 0.]\n",
      " [1. 0.]\n",
      " [1. 0.]\n",
      " [0. 1.]\n",
      " [0. 1.]\n",
      " [0. 1.]\n",
      " [0. 1.]\n",
      " [1. 0.]\n",
      " [0. 1.]\n",
      " [0. 1.]\n",
      " [0. 1.]\n",
      " [0. 1.]\n",
      " [1. 0.]\n",
      " [1. 0.]\n",
      " [1. 0.]\n",
      " [1. 0.]\n",
      " [0. 1.]\n",
      " [1. 0.]\n",
      " [0. 1.]\n",
      " [0. 1.]\n",
      " [1. 0.]\n",
      " [1. 0.]\n",
      " [1. 0.]\n",
      " [1. 0.]\n",
      " [1. 0.]\n",
      " [0. 1.]\n",
      " [1. 0.]\n",
      " [1. 0.]\n",
      " [0. 1.]\n",
      " [1. 0.]\n",
      " [0. 1.]\n",
      " [0. 1.]\n",
      " [0. 1.]\n",
      " [1. 0.]\n",
      " [1. 0.]\n",
      " [1. 0.]\n",
      " [1. 0.]\n",
      " [1. 0.]\n",
      " [1. 0.]\n",
      " [1. 0.]\n",
      " [0. 1.]\n",
      " [0. 1.]\n",
      " [0. 1.]\n",
      " [0. 1.]\n",
      " [0. 1.]\n",
      " [0. 1.]\n",
      " [0. 1.]\n",
      " [0. 1.]\n",
      " [1. 0.]\n",
      " [1. 0.]\n",
      " [0. 1.]\n",
      " [0. 1.]\n",
      " [0. 1.]\n",
      " [1. 0.]]\n"
     ]
    }
   ],
   "source": [
    "print(Sex)"
   ]
  },
  {
   "cell_type": "code",
   "execution_count": 8,
   "id": "9512ed48",
   "metadata": {},
   "outputs": [],
   "source": [
    "Bp = ohe.fit_transform(bp).toarray()"
   ]
  },
  {
   "cell_type": "code",
   "execution_count": 9,
   "id": "ce24856d",
   "metadata": {},
   "outputs": [
    {
     "name": "stdout",
     "output_type": "stream",
     "text": [
      "[[1. 0. 0.]\n",
      " [0. 1. 0.]\n",
      " [0. 1. 0.]\n",
      " [0. 0. 1.]\n",
      " [0. 1. 0.]\n",
      " [0. 0. 1.]\n",
      " [0. 0. 1.]\n",
      " [0. 1. 0.]\n",
      " [0. 0. 1.]\n",
      " [0. 1. 0.]\n",
      " [0. 1. 0.]\n",
      " [1. 0. 0.]\n",
      " [0. 1. 0.]\n",
      " [0. 1. 0.]\n",
      " [0. 0. 1.]\n",
      " [1. 0. 0.]\n",
      " [0. 1. 0.]\n",
      " [1. 0. 0.]\n",
      " [0. 1. 0.]\n",
      " [1. 0. 0.]\n",
      " [0. 1. 0.]\n",
      " [0. 0. 1.]\n",
      " [0. 1. 0.]\n",
      " [0. 1. 0.]\n",
      " [0. 1. 0.]\n",
      " [1. 0. 0.]\n",
      " [1. 0. 0.]\n",
      " [0. 0. 1.]\n",
      " [0. 1. 0.]\n",
      " [0. 1. 0.]\n",
      " [0. 0. 1.]\n",
      " [1. 0. 0.]\n",
      " [0. 1. 0.]\n",
      " [1. 0. 0.]\n",
      " [0. 0. 1.]\n",
      " [0. 0. 1.]\n",
      " [1. 0. 0.]\n",
      " [0. 1. 0.]\n",
      " [0. 0. 1.]\n",
      " [0. 0. 1.]\n",
      " [0. 0. 1.]\n",
      " [1. 0. 0.]\n",
      " [0. 0. 1.]\n",
      " [0. 0. 1.]\n",
      " [0. 0. 1.]\n",
      " [0. 0. 1.]\n",
      " [1. 0. 0.]\n",
      " [0. 1. 0.]\n",
      " [0. 0. 1.]\n",
      " [0. 1. 0.]\n",
      " [1. 0. 0.]\n",
      " [0. 0. 1.]\n",
      " [0. 1. 0.]\n",
      " [1. 0. 0.]\n",
      " [1. 0. 0.]\n",
      " [0. 1. 0.]\n",
      " [1. 0. 0.]\n",
      " [1. 0. 0.]\n",
      " [0. 0. 1.]\n",
      " [1. 0. 0.]\n",
      " [0. 1. 0.]\n",
      " [1. 0. 0.]\n",
      " [0. 1. 0.]\n",
      " [0. 1. 0.]\n",
      " [1. 0. 0.]\n",
      " [0. 0. 1.]\n",
      " [1. 0. 0.]\n",
      " [0. 0. 1.]\n",
      " [0. 0. 1.]\n",
      " [1. 0. 0.]\n",
      " [1. 0. 0.]\n",
      " [0. 0. 1.]\n",
      " [0. 0. 1.]\n",
      " [0. 0. 1.]\n",
      " [1. 0. 0.]\n",
      " [0. 1. 0.]\n",
      " [1. 0. 0.]\n",
      " [1. 0. 0.]\n",
      " [1. 0. 0.]\n",
      " [0. 1. 0.]\n",
      " [1. 0. 0.]\n",
      " [0. 0. 1.]\n",
      " [0. 1. 0.]\n",
      " [1. 0. 0.]\n",
      " [0. 1. 0.]\n",
      " [1. 0. 0.]\n",
      " [0. 0. 1.]\n",
      " [0. 1. 0.]\n",
      " [1. 0. 0.]\n",
      " [0. 0. 1.]\n",
      " [0. 0. 1.]\n",
      " [1. 0. 0.]\n",
      " [1. 0. 0.]\n",
      " [0. 1. 0.]\n",
      " [0. 1. 0.]\n",
      " [0. 1. 0.]\n",
      " [0. 1. 0.]\n",
      " [1. 0. 0.]\n",
      " [1. 0. 0.]\n",
      " [1. 0. 0.]\n",
      " [1. 0. 0.]\n",
      " [1. 0. 0.]\n",
      " [0. 1. 0.]\n",
      " [0. 0. 1.]\n",
      " [1. 0. 0.]\n",
      " [0. 1. 0.]\n",
      " [0. 0. 1.]\n",
      " [0. 1. 0.]\n",
      " [1. 0. 0.]\n",
      " [0. 0. 1.]\n",
      " [1. 0. 0.]\n",
      " [0. 0. 1.]\n",
      " [0. 1. 0.]\n",
      " [0. 1. 0.]\n",
      " [0. 0. 1.]\n",
      " [1. 0. 0.]\n",
      " [0. 0. 1.]\n",
      " [0. 0. 1.]\n",
      " [1. 0. 0.]\n",
      " [1. 0. 0.]\n",
      " [0. 0. 1.]\n",
      " [1. 0. 0.]\n",
      " [0. 0. 1.]\n",
      " [0. 0. 1.]\n",
      " [1. 0. 0.]\n",
      " [1. 0. 0.]\n",
      " [1. 0. 0.]\n",
      " [0. 0. 1.]\n",
      " [0. 1. 0.]\n",
      " [0. 0. 1.]\n",
      " [0. 0. 1.]\n",
      " [0. 1. 0.]\n",
      " [0. 1. 0.]\n",
      " [0. 0. 1.]\n",
      " [1. 0. 0.]\n",
      " [0. 1. 0.]\n",
      " [1. 0. 0.]\n",
      " [1. 0. 0.]\n",
      " [1. 0. 0.]\n",
      " [0. 0. 1.]\n",
      " [1. 0. 0.]\n",
      " [0. 1. 0.]\n",
      " [1. 0. 0.]\n",
      " [1. 0. 0.]\n",
      " [1. 0. 0.]\n",
      " [0. 0. 1.]\n",
      " [0. 1. 0.]\n",
      " [1. 0. 0.]\n",
      " [0. 1. 0.]\n",
      " [0. 1. 0.]\n",
      " [1. 0. 0.]\n",
      " [1. 0. 0.]\n",
      " [0. 0. 1.]\n",
      " [0. 1. 0.]\n",
      " [0. 1. 0.]\n",
      " [0. 1. 0.]\n",
      " [1. 0. 0.]\n",
      " [0. 1. 0.]\n",
      " [0. 1. 0.]\n",
      " [0. 1. 0.]\n",
      " [0. 0. 1.]\n",
      " [1. 0. 0.]\n",
      " [0. 0. 1.]\n",
      " [1. 0. 0.]\n",
      " [1. 0. 0.]\n",
      " [0. 1. 0.]\n",
      " [0. 1. 0.]\n",
      " [0. 0. 1.]\n",
      " [0. 1. 0.]\n",
      " [1. 0. 0.]\n",
      " [0. 0. 1.]\n",
      " [0. 1. 0.]\n",
      " [0. 0. 1.]\n",
      " [0. 1. 0.]\n",
      " [1. 0. 0.]\n",
      " [1. 0. 0.]\n",
      " [1. 0. 0.]\n",
      " [0. 0. 1.]\n",
      " [0. 0. 1.]\n",
      " [0. 0. 1.]\n",
      " [1. 0. 0.]\n",
      " [0. 0. 1.]\n",
      " [0. 1. 0.]\n",
      " [1. 0. 0.]\n",
      " [1. 0. 0.]\n",
      " [0. 0. 1.]\n",
      " [1. 0. 0.]\n",
      " [1. 0. 0.]\n",
      " [1. 0. 0.]\n",
      " [1. 0. 0.]\n",
      " [1. 0. 0.]\n",
      " [1. 0. 0.]\n",
      " [0. 1. 0.]\n",
      " [0. 1. 0.]\n",
      " [1. 0. 0.]\n",
      " [0. 1. 0.]\n",
      " [0. 1. 0.]\n",
      " [0. 0. 1.]\n",
      " [0. 0. 1.]\n",
      " [0. 1. 0.]]\n"
     ]
    }
   ],
   "source": [
    "print(Bp)"
   ]
  },
  {
   "cell_type": "code",
   "execution_count": 10,
   "id": "c0f8bbfd",
   "metadata": {},
   "outputs": [],
   "source": [
    "Chol = ohe.fit_transform(chol).toarray()"
   ]
  },
  {
   "cell_type": "code",
   "execution_count": 11,
   "id": "c143425c",
   "metadata": {},
   "outputs": [
    {
     "name": "stdout",
     "output_type": "stream",
     "text": [
      "[1. 0.]\n"
     ]
    }
   ],
   "source": [
    "print(Chol[110])"
   ]
  },
  {
   "cell_type": "code",
   "execution_count": 12,
   "id": "39fcac62",
   "metadata": {},
   "outputs": [],
   "source": [
    "sonuc = pd.DataFrame(data = age,index= range(200),columns=['Age'])"
   ]
  },
  {
   "cell_type": "code",
   "execution_count": 13,
   "id": "2b9a2080",
   "metadata": {},
   "outputs": [],
   "source": [
    "sonuc1 = pd.DataFrame(data = Sex,index= range(200),columns=['F','M'])"
   ]
  },
  {
   "cell_type": "code",
   "execution_count": 14,
   "id": "cb3703aa",
   "metadata": {},
   "outputs": [],
   "source": [
    "sonuc2 = pd.DataFrame(data = Bp,index= range(200),columns=['BpHigh','BpNormal','BpLow'])"
   ]
  },
  {
   "cell_type": "code",
   "execution_count": 15,
   "id": "053c4c47",
   "metadata": {},
   "outputs": [],
   "source": [
    "sonuc3 = pd.DataFrame(data = Chol,index= range(200),columns=['CholHigh','CholLow'])"
   ]
  },
  {
   "cell_type": "code",
   "execution_count": 16,
   "id": "937f5774",
   "metadata": {},
   "outputs": [],
   "source": [
    "sonuc4 = pd.DataFrame(data = natok,index= range(200),columns=['Na_to_k'])"
   ]
  },
  {
   "cell_type": "code",
   "execution_count": 17,
   "id": "44885063",
   "metadata": {},
   "outputs": [
    {
     "name": "stdout",
     "output_type": "stream",
     "text": [
      "     Age    F    M\n",
      "0     23  1.0  0.0\n",
      "1     47  0.0  1.0\n",
      "2     47  0.0  1.0\n",
      "3     28  1.0  0.0\n",
      "4     61  1.0  0.0\n",
      "..   ...  ...  ...\n",
      "195   56  1.0  0.0\n",
      "196   16  0.0  1.0\n",
      "197   52  0.0  1.0\n",
      "198   23  0.0  1.0\n",
      "199   40  1.0  0.0\n",
      "\n",
      "[200 rows x 3 columns]\n"
     ]
    }
   ],
   "source": [
    "t = pd.concat([sonuc,sonuc1],axis=1)\n",
    "print(t)"
   ]
  },
  {
   "cell_type": "code",
   "execution_count": 18,
   "id": "25588111",
   "metadata": {},
   "outputs": [
    {
     "name": "stdout",
     "output_type": "stream",
     "text": [
      "     Age    F    M  BpHigh  BpNormal  BpLow\n",
      "0     23  1.0  0.0     1.0       0.0    0.0\n",
      "1     47  0.0  1.0     0.0       1.0    0.0\n",
      "2     47  0.0  1.0     0.0       1.0    0.0\n",
      "3     28  1.0  0.0     0.0       0.0    1.0\n",
      "4     61  1.0  0.0     0.0       1.0    0.0\n",
      "..   ...  ...  ...     ...       ...    ...\n",
      "195   56  1.0  0.0     0.0       1.0    0.0\n",
      "196   16  0.0  1.0     0.0       1.0    0.0\n",
      "197   52  0.0  1.0     0.0       0.0    1.0\n",
      "198   23  0.0  1.0     0.0       0.0    1.0\n",
      "199   40  1.0  0.0     0.0       1.0    0.0\n",
      "\n",
      "[200 rows x 6 columns]\n"
     ]
    }
   ],
   "source": [
    "t1 = pd.concat([t,sonuc2],axis=1)\n",
    "print(t1)"
   ]
  },
  {
   "cell_type": "code",
   "execution_count": 19,
   "id": "42911205",
   "metadata": {},
   "outputs": [
    {
     "name": "stdout",
     "output_type": "stream",
     "text": [
      "     Age    F    M  BpHigh  BpNormal  BpLow  CholHigh  CholLow\n",
      "0     23  1.0  0.0     1.0       0.0    0.0       1.0      0.0\n",
      "1     47  0.0  1.0     0.0       1.0    0.0       1.0      0.0\n",
      "2     47  0.0  1.0     0.0       1.0    0.0       1.0      0.0\n",
      "3     28  1.0  0.0     0.0       0.0    1.0       1.0      0.0\n",
      "4     61  1.0  0.0     0.0       1.0    0.0       1.0      0.0\n",
      "..   ...  ...  ...     ...       ...    ...       ...      ...\n",
      "195   56  1.0  0.0     0.0       1.0    0.0       1.0      0.0\n",
      "196   16  0.0  1.0     0.0       1.0    0.0       1.0      0.0\n",
      "197   52  0.0  1.0     0.0       0.0    1.0       1.0      0.0\n",
      "198   23  0.0  1.0     0.0       0.0    1.0       0.0      1.0\n",
      "199   40  1.0  0.0     0.0       1.0    0.0       0.0      1.0\n",
      "\n",
      "[200 rows x 8 columns]\n"
     ]
    }
   ],
   "source": [
    "t2 = pd.concat([t1,sonuc3],axis=1)\n",
    "print(t2)"
   ]
  },
  {
   "cell_type": "code",
   "execution_count": 20,
   "id": "8927877d",
   "metadata": {},
   "outputs": [
    {
     "name": "stdout",
     "output_type": "stream",
     "text": [
      "     Age    F    M  BpHigh  BpNormal  BpLow  CholHigh  CholLow  Na_to_k\n",
      "0     23  1.0  0.0     1.0       0.0    0.0       1.0      0.0   25.355\n",
      "1     47  0.0  1.0     0.0       1.0    0.0       1.0      0.0   13.093\n",
      "2     47  0.0  1.0     0.0       1.0    0.0       1.0      0.0   10.114\n",
      "3     28  1.0  0.0     0.0       0.0    1.0       1.0      0.0    7.798\n",
      "4     61  1.0  0.0     0.0       1.0    0.0       1.0      0.0   18.043\n",
      "..   ...  ...  ...     ...       ...    ...       ...      ...      ...\n",
      "195   56  1.0  0.0     0.0       1.0    0.0       1.0      0.0   11.567\n",
      "196   16  0.0  1.0     0.0       1.0    0.0       1.0      0.0   12.006\n",
      "197   52  0.0  1.0     0.0       0.0    1.0       1.0      0.0    9.894\n",
      "198   23  0.0  1.0     0.0       0.0    1.0       0.0      1.0   14.020\n",
      "199   40  1.0  0.0     0.0       1.0    0.0       0.0      1.0   11.349\n",
      "\n",
      "[200 rows x 9 columns]\n"
     ]
    }
   ],
   "source": [
    "t3 = pd.concat([t2,sonuc4],axis=1)\n",
    "print(t3)"
   ]
  },
  {
   "cell_type": "code",
   "execution_count": 21,
   "id": "dc9867b1",
   "metadata": {},
   "outputs": [],
   "source": [
    "x_train, x_test, y_train, y_test = train_test_split(t3,drug,test_size=0.40,random_state=0)"
   ]
  },
  {
   "cell_type": "code",
   "execution_count": 22,
   "id": "ab51d800",
   "metadata": {},
   "outputs": [
    {
     "data": {
      "text/plain": [
       "(     Age    F    M  BpHigh  BpNormal  BpLow  CholHigh  CholLow  Na_to_k\n",
       " 187   47  0.0  1.0     1.0       0.0    0.0       1.0      0.0   10.403\n",
       " 46    37  1.0  0.0     1.0       0.0    0.0       1.0      0.0   13.091\n",
       " 138   51  0.0  1.0     1.0       0.0    0.0       0.0      1.0   11.343\n",
       " 195   56  1.0  0.0     0.0       1.0    0.0       1.0      0.0   11.567\n",
       " 108   72  0.0  1.0     1.0       0.0    0.0       0.0      1.0    9.677\n",
       " ..   ...  ...  ...     ...       ...    ...       ...      ...      ...\n",
       " 67    17  0.0  1.0     0.0       0.0    1.0       0.0      1.0   10.832\n",
       " 192   72  0.0  1.0     0.0       1.0    0.0       1.0      0.0   16.310\n",
       " 117   40  1.0  0.0     0.0       0.0    1.0       1.0      0.0   10.103\n",
       " 47    68  0.0  1.0     0.0       1.0    0.0       1.0      0.0   10.291\n",
       " 172   39  1.0  0.0     0.0       0.0    1.0       0.0      1.0   17.225\n",
       " \n",
       " [120 rows x 9 columns],\n",
       "      Age    F    M  BpHigh  BpNormal  BpLow  CholHigh  CholLow  Na_to_k\n",
       " 18    23  0.0  1.0     0.0       1.0    0.0       1.0      0.0    7.298\n",
       " 170   28  1.0  0.0     0.0       0.0    1.0       1.0      0.0   12.879\n",
       " 107   42  0.0  1.0     0.0       1.0    0.0       1.0      0.0   20.013\n",
       " 98    20  0.0  1.0     1.0       0.0    0.0       0.0      1.0   35.639\n",
       " 177   25  0.0  1.0     0.0       0.0    1.0       1.0      0.0   19.011\n",
       " ..   ...  ...  ...     ...       ...    ...       ...      ...      ...\n",
       " 89    50  1.0  0.0     0.0       0.0    1.0       0.0      1.0   17.211\n",
       " 109   23  0.0  1.0     0.0       0.0    1.0       1.0      0.0   16.850\n",
       " 14    50  1.0  0.0     0.0       0.0    1.0       1.0      0.0   12.703\n",
       " 27    49  1.0  0.0     0.0       0.0    1.0       0.0      1.0    9.381\n",
       " 141   64  1.0  0.0     0.0       1.0    0.0       0.0      1.0   25.741\n",
       " \n",
       " [80 rows x 9 columns])"
      ]
     },
     "execution_count": 22,
     "metadata": {},
     "output_type": "execute_result"
    }
   ],
   "source": [
    "x_train,x_test"
   ]
  },
  {
   "cell_type": "markdown",
   "id": "94606401",
   "metadata": {},
   "source": [
    "# Classification"
   ]
  },
  {
   "cell_type": "code",
   "execution_count": 87,
   "id": "cfe0964e",
   "metadata": {},
   "outputs": [],
   "source": [
    "sc = StandardScaler()\n",
    "X_train = sc.fit_transform(x_train)"
   ]
  },
  {
   "cell_type": "markdown",
   "id": "ccde8a00",
   "metadata": {},
   "source": [
    "# Logistic Regression"
   ]
  },
  {
   "cell_type": "code",
   "execution_count": 88,
   "id": "4a7cedcc",
   "metadata": {},
   "outputs": [
    {
     "name": "stdout",
     "output_type": "stream",
     "text": [
      "[[30  0  9  0  0]\n",
      " [ 3  0  5  0  0]\n",
      " [ 0  0  4  0  0]\n",
      " [ 2  0  2  0  0]\n",
      " [ 8  0 17  0  0]]\n",
      "['drugB' 'DrugY' 'DrugY' 'DrugY' 'DrugY' 'DrugY' 'DrugY' 'drugB' 'DrugY'\n",
      " 'drugB' 'DrugY' 'DrugY' 'DrugY' 'DrugY' 'drugB' 'drugB' 'DrugY' 'drugB'\n",
      " 'DrugY' 'DrugY' 'DrugY' 'drugB' 'drugB' 'DrugY' 'DrugY' 'DrugY' 'drugB'\n",
      " 'DrugY' 'DrugY' 'drugB' 'drugB' 'DrugY' 'drugB' 'drugB' 'DrugY' 'drugB'\n",
      " 'drugB' 'drugB' 'drugB' 'DrugY' 'DrugY' 'DrugY' 'DrugY' 'drugB' 'DrugY'\n",
      " 'drugB' 'drugB' 'DrugY' 'drugB' 'drugB' 'DrugY' 'drugB' 'DrugY' 'DrugY'\n",
      " 'DrugY' 'DrugY' 'DrugY' 'DrugY' 'drugB' 'drugB' 'DrugY' 'DrugY' 'drugB'\n",
      " 'DrugY' 'drugB' 'DrugY' 'drugB' 'DrugY' 'drugB' 'drugB' 'drugB' 'drugB'\n",
      " 'DrugY' 'drugB' 'drugB' 'drugB' 'DrugY' 'drugB' 'drugB' 'DrugY']\n"
     ]
    },
    {
     "name": "stderr",
     "output_type": "stream",
     "text": [
      "C:\\Users\\asus\\AppData\\Roaming\\Python\\Python39\\site-packages\\sklearn\\base.py:443: UserWarning: X has feature names, but LogisticRegression was fitted without feature names\n",
      "  warnings.warn(\n"
     ]
    }
   ],
   "source": [
    "loreg = LogisticRegression(random_state=0)\n",
    "loreg.fit(X_train,y_train)\n",
    "y_pred = loreg.predict(x_test)\n",
    "cm = confusion_matrix(y_test,y_pred)\n",
    "print(cm)\n",
    "print(y_pred)"
   ]
  },
  {
   "cell_type": "markdown",
   "id": "7bd2cd96",
   "metadata": {},
   "source": [
    "# KNN"
   ]
  },
  {
   "cell_type": "code",
   "execution_count": 89,
   "id": "80c27cd4",
   "metadata": {},
   "outputs": [
    {
     "name": "stdout",
     "output_type": "stream",
     "text": [
      "[[39  0  0  0  0]\n",
      " [ 8  0  0  0  0]\n",
      " [ 4  0  0  0  0]\n",
      " [ 4  0  0  0  0]\n",
      " [25  0  0  0  0]]\n",
      "['DrugY' 'DrugY' 'DrugY' 'DrugY' 'DrugY' 'DrugY' 'DrugY' 'DrugY' 'DrugY'\n",
      " 'DrugY' 'DrugY' 'DrugY' 'DrugY' 'DrugY' 'DrugY' 'DrugY' 'DrugY' 'DrugY'\n",
      " 'DrugY' 'DrugY' 'DrugY' 'DrugY' 'DrugY' 'DrugY' 'DrugY' 'DrugY' 'DrugY'\n",
      " 'DrugY' 'DrugY' 'DrugY' 'DrugY' 'DrugY' 'DrugY' 'DrugY' 'DrugY' 'DrugY'\n",
      " 'DrugY' 'DrugY' 'DrugY' 'DrugY' 'DrugY' 'DrugY' 'DrugY' 'DrugY' 'DrugY'\n",
      " 'DrugY' 'DrugY' 'DrugY' 'DrugY' 'DrugY' 'DrugY' 'DrugY' 'DrugY' 'DrugY'\n",
      " 'DrugY' 'DrugY' 'DrugY' 'DrugY' 'DrugY' 'DrugY' 'DrugY' 'DrugY' 'DrugY'\n",
      " 'DrugY' 'DrugY' 'DrugY' 'DrugY' 'DrugY' 'DrugY' 'DrugY' 'DrugY' 'DrugY'\n",
      " 'DrugY' 'DrugY' 'DrugY' 'DrugY' 'DrugY' 'DrugY' 'DrugY' 'DrugY']\n"
     ]
    },
    {
     "name": "stderr",
     "output_type": "stream",
     "text": [
      "C:\\Users\\asus\\AppData\\Roaming\\Python\\Python39\\site-packages\\sklearn\\base.py:443: UserWarning: X has feature names, but KNeighborsClassifier was fitted without feature names\n",
      "  warnings.warn(\n"
     ]
    }
   ],
   "source": [
    "knn = KNeighborsClassifier(n_neighbors=20,metric='manhattan')\n",
    "knn.fit(X_train,y_train)\n",
    "y_pred = knn.predict(x_test)\n",
    "cm2 = confusion_matrix(y_test,y_pred)\n",
    "print(cm2)\n",
    "print(y_pred)"
   ]
  },
  {
   "cell_type": "markdown",
   "id": "7f73c2eb",
   "metadata": {},
   "source": [
    "# Naive Bayes"
   ]
  },
  {
   "cell_type": "code",
   "execution_count": 90,
   "id": "31f24a9b",
   "metadata": {},
   "outputs": [
    {
     "name": "stdout",
     "output_type": "stream",
     "text": [
      "[[39  0  0  0  0]\n",
      " [ 8  0  0  0  0]\n",
      " [ 4  0  0  0  0]\n",
      " [ 4  0  0  0  0]\n",
      " [25  0  0  0  0]]\n",
      "['DrugY' 'DrugY' 'DrugY' 'DrugY' 'DrugY' 'DrugY' 'DrugY' 'DrugY' 'DrugY'\n",
      " 'DrugY' 'DrugY' 'DrugY' 'DrugY' 'DrugY' 'DrugY' 'DrugY' 'DrugY' 'DrugY'\n",
      " 'DrugY' 'DrugY' 'DrugY' 'DrugY' 'DrugY' 'DrugY' 'DrugY' 'DrugY' 'DrugY'\n",
      " 'DrugY' 'DrugY' 'DrugY' 'DrugY' 'DrugY' 'DrugY' 'DrugY' 'DrugY' 'DrugY'\n",
      " 'DrugY' 'DrugY' 'DrugY' 'DrugY' 'DrugY' 'DrugY' 'DrugY' 'DrugY' 'DrugY'\n",
      " 'DrugY' 'DrugY' 'DrugY' 'DrugY' 'DrugY' 'DrugY' 'DrugY' 'DrugY' 'DrugY'\n",
      " 'DrugY' 'DrugY' 'DrugY' 'DrugY' 'DrugY' 'DrugY' 'DrugY' 'DrugY' 'DrugY'\n",
      " 'DrugY' 'DrugY' 'DrugY' 'DrugY' 'DrugY' 'DrugY' 'DrugY' 'DrugY' 'DrugY'\n",
      " 'DrugY' 'DrugY' 'DrugY' 'DrugY' 'DrugY' 'DrugY' 'DrugY' 'DrugY']\n"
     ]
    },
    {
     "name": "stderr",
     "output_type": "stream",
     "text": [
      "C:\\Users\\asus\\AppData\\Roaming\\Python\\Python39\\site-packages\\sklearn\\base.py:443: UserWarning: X has feature names, but GaussianNB was fitted without feature names\n",
      "  warnings.warn(\n"
     ]
    }
   ],
   "source": [
    "nb = GaussianNB()\n",
    "nb.fit(X_train,y_train)\n",
    "y_pred = nb.predict(x_test)\n",
    "cm3 = confusion_matrix(y_test,y_pred)\n",
    "print(cm3)\n",
    "print(y_pred)"
   ]
  },
  {
   "cell_type": "markdown",
   "id": "11a24b5c",
   "metadata": {},
   "source": [
    "# SVC"
   ]
  },
  {
   "cell_type": "code",
   "execution_count": 91,
   "id": "c2de82d0",
   "metadata": {},
   "outputs": [
    {
     "name": "stdout",
     "output_type": "stream",
     "text": [
      "[[39  0  0  0  0]\n",
      " [ 7  0  1  0  0]\n",
      " [ 2  0  2  0  0]\n",
      " [ 4  0  0  0  0]\n",
      " [17  0  8  0  0]]\n",
      "['DrugY' 'DrugY' 'DrugY' 'DrugY' 'DrugY' 'DrugY' 'DrugY' 'DrugY' 'DrugY'\n",
      " 'drugB' 'DrugY' 'DrugY' 'DrugY' 'DrugY' 'DrugY' 'DrugY' 'DrugY' 'DrugY'\n",
      " 'DrugY' 'DrugY' 'DrugY' 'drugB' 'drugB' 'DrugY' 'DrugY' 'DrugY' 'DrugY'\n",
      " 'DrugY' 'DrugY' 'DrugY' 'drugB' 'DrugY' 'drugB' 'drugB' 'DrugY' 'DrugY'\n",
      " 'DrugY' 'DrugY' 'DrugY' 'DrugY' 'DrugY' 'DrugY' 'DrugY' 'DrugY' 'DrugY'\n",
      " 'drugB' 'DrugY' 'DrugY' 'DrugY' 'DrugY' 'DrugY' 'DrugY' 'DrugY' 'DrugY'\n",
      " 'DrugY' 'DrugY' 'DrugY' 'DrugY' 'DrugY' 'drugB' 'DrugY' 'DrugY' 'DrugY'\n",
      " 'DrugY' 'DrugY' 'DrugY' 'drugB' 'DrugY' 'drugB' 'DrugY' 'drugB' 'DrugY'\n",
      " 'DrugY' 'DrugY' 'DrugY' 'DrugY' 'DrugY' 'DrugY' 'DrugY' 'DrugY']\n"
     ]
    },
    {
     "name": "stderr",
     "output_type": "stream",
     "text": [
      "C:\\Users\\asus\\AppData\\Roaming\\Python\\Python39\\site-packages\\sklearn\\base.py:443: UserWarning: X has feature names, but SVC was fitted without feature names\n",
      "  warnings.warn(\n"
     ]
    }
   ],
   "source": [
    "sv = SVC(kernel='poly')\n",
    "sv.fit(X_train,y_train)\n",
    "y_pred = sv.predict(x_test)\n",
    "cm4 = confusion_matrix(y_test,y_pred)\n",
    "print(cm4)\n",
    "print(y_pred)"
   ]
  },
  {
   "cell_type": "markdown",
   "id": "9949b60b",
   "metadata": {},
   "source": [
    "# Decision Tree"
   ]
  },
  {
   "cell_type": "code",
   "execution_count": 92,
   "id": "127d8425",
   "metadata": {},
   "outputs": [
    {
     "name": "stdout",
     "output_type": "stream",
     "text": [
      "[[39  0  0  0  0]\n",
      " [ 8  0  0  0  0]\n",
      " [ 4  0  0  0  0]\n",
      " [ 4  0  0  0  0]\n",
      " [25  0  0  0  0]]\n",
      "['DrugY' 'DrugY' 'DrugY' 'DrugY' 'DrugY' 'DrugY' 'DrugY' 'DrugY' 'DrugY'\n",
      " 'DrugY' 'DrugY' 'DrugY' 'DrugY' 'DrugY' 'DrugY' 'DrugY' 'DrugY' 'DrugY'\n",
      " 'DrugY' 'DrugY' 'DrugY' 'DrugY' 'DrugY' 'DrugY' 'DrugY' 'DrugY' 'DrugY'\n",
      " 'DrugY' 'DrugY' 'DrugY' 'DrugY' 'DrugY' 'DrugY' 'DrugY' 'DrugY' 'DrugY'\n",
      " 'DrugY' 'DrugY' 'DrugY' 'DrugY' 'DrugY' 'DrugY' 'DrugY' 'DrugY' 'DrugY'\n",
      " 'DrugY' 'DrugY' 'DrugY' 'DrugY' 'DrugY' 'DrugY' 'DrugY' 'DrugY' 'DrugY'\n",
      " 'DrugY' 'DrugY' 'DrugY' 'DrugY' 'DrugY' 'DrugY' 'DrugY' 'DrugY' 'DrugY'\n",
      " 'DrugY' 'DrugY' 'DrugY' 'DrugY' 'DrugY' 'DrugY' 'DrugY' 'DrugY' 'DrugY'\n",
      " 'DrugY' 'DrugY' 'DrugY' 'DrugY' 'DrugY' 'DrugY' 'DrugY' 'DrugY']\n"
     ]
    },
    {
     "name": "stderr",
     "output_type": "stream",
     "text": [
      "C:\\Users\\asus\\AppData\\Roaming\\Python\\Python39\\site-packages\\sklearn\\base.py:443: UserWarning: X has feature names, but DecisionTreeClassifier was fitted without feature names\n",
      "  warnings.warn(\n"
     ]
    }
   ],
   "source": [
    "dt = DecisionTreeClassifier(criterion='entropy')\n",
    "dt.fit(X_train,y_train)\n",
    "y_pred = dt.predict(x_test)\n",
    "cm5 = confusion_matrix(y_test,y_pred)\n",
    "print(cm5)\n",
    "print(y_pred)"
   ]
  },
  {
   "cell_type": "markdown",
   "id": "834628cd",
   "metadata": {},
   "source": [
    "# Random Forest"
   ]
  },
  {
   "cell_type": "code",
   "execution_count": 93,
   "id": "7f0648c6",
   "metadata": {},
   "outputs": [
    {
     "name": "stdout",
     "output_type": "stream",
     "text": [
      "[[39  0  0  0  0]\n",
      " [ 8  0  0  0  0]\n",
      " [ 4  0  0  0  0]\n",
      " [ 4  0  0  0  0]\n",
      " [25  0  0  0  0]]\n",
      "['DrugY' 'DrugY' 'DrugY' 'DrugY' 'DrugY' 'DrugY' 'DrugY' 'DrugY' 'DrugY'\n",
      " 'DrugY' 'DrugY' 'DrugY' 'DrugY' 'DrugY' 'DrugY' 'DrugY' 'DrugY' 'DrugY'\n",
      " 'DrugY' 'DrugY' 'DrugY' 'DrugY' 'DrugY' 'DrugY' 'DrugY' 'DrugY' 'DrugY'\n",
      " 'DrugY' 'DrugY' 'DrugY' 'DrugY' 'DrugY' 'DrugY' 'DrugY' 'DrugY' 'DrugY'\n",
      " 'DrugY' 'DrugY' 'DrugY' 'DrugY' 'DrugY' 'DrugY' 'DrugY' 'DrugY' 'DrugY'\n",
      " 'DrugY' 'DrugY' 'DrugY' 'DrugY' 'DrugY' 'DrugY' 'DrugY' 'DrugY' 'DrugY'\n",
      " 'DrugY' 'DrugY' 'DrugY' 'DrugY' 'DrugY' 'DrugY' 'DrugY' 'DrugY' 'DrugY'\n",
      " 'DrugY' 'DrugY' 'DrugY' 'DrugY' 'DrugY' 'DrugY' 'DrugY' 'DrugY' 'DrugY'\n",
      " 'DrugY' 'DrugY' 'DrugY' 'DrugY' 'DrugY' 'DrugY' 'DrugY' 'DrugY']\n"
     ]
    },
    {
     "name": "stderr",
     "output_type": "stream",
     "text": [
      "C:\\Users\\asus\\AppData\\Roaming\\Python\\Python39\\site-packages\\sklearn\\base.py:443: UserWarning: X has feature names, but DecisionTreeClassifier was fitted without feature names\n",
      "  warnings.warn(\n"
     ]
    }
   ],
   "source": [
    "rf = RandomForestClassifier(random_state=0,criterion='entropy')\n",
    "rf.fit(X_train,y_train)\n",
    "y_pred = dt.predict(x_test)\n",
    "cm6 = confusion_matrix(y_test,y_pred)\n",
    "print(cm6)\n",
    "print(y_pred)"
   ]
  },
  {
   "cell_type": "code",
   "execution_count": null,
   "id": "973a9be9",
   "metadata": {},
   "outputs": [],
   "source": []
  }
 ],
 "metadata": {
  "kernelspec": {
   "display_name": "Python 3 (ipykernel)",
   "language": "python",
   "name": "python3"
  },
  "language_info": {
   "codemirror_mode": {
    "name": "ipython",
    "version": 3
   },
   "file_extension": ".py",
   "mimetype": "text/x-python",
   "name": "python",
   "nbconvert_exporter": "python",
   "pygments_lexer": "ipython3",
   "version": "3.9.8"
  }
 },
 "nbformat": 4,
 "nbformat_minor": 5
}
